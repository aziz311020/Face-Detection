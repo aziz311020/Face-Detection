{
 "cells": [
  {
   "cell_type": "markdown",
   "metadata": {},
   "source": [
    "# Face Detection"
   ]
  },
  {
   "cell_type": "code",
   "execution_count": 1,
   "metadata": {},
   "outputs": [],
   "source": [
    "#importing tensorflow\n",
    "import tensorflow as tf\n",
    "from keras.layers import Input, Lambda, Dense, Flatten\n",
    "from keras.models import Model\n",
    "from keras.applications.vgg16 import VGG16\n",
    "from keras.applications.vgg16 import preprocess_input\n",
    "from tensorflow.keras.preprocessing import image\n",
    "from tensorflow.keras.preprocessing.image import ImageDataGenerator\n",
    "from tensorflow.keras.models import Sequential\n",
    "from tensorflow.keras.preprocessing.image import ImageDataGenerator, load_img, img_to_array\n",
    "from tensorflow.keras.preprocessing.image import img_to_array\n",
    "import numpy as np\n",
    "import pandas as pd\n",
    "from glob import glob\n",
    "import matplotlib.pyplot as plt\n",
    "\n",
    "import os\n",
    "#os.listdir()"
   ]
  },
  {
   "cell_type": "code",
   "execution_count": 2,
   "metadata": {},
   "outputs": [],
   "source": [
    "# hethi il dimensions mta3 il image, 224px*224px\n",
    "IMAGE_SIZE = [224, 224]\n",
    "# training image size will be 224,224"
   ]
  },
  {
   "cell_type": "code",
   "execution_count": 3,
   "metadata": {},
   "outputs": [],
   "source": [
    "#train_path : il tsawer mta3 il training mnin bch yethazou\n",
    "#valid_path : il tsawer mta3 il test(validation) mnin bch yethazou\n",
    "train_path = 'C:/Users/azizk/OneDrive/Desktop/DatasetsV2/Train'\n",
    "valid_path = 'C:/Users/azizk/OneDrive/Desktop/DatasetsV2/Test'"
   ]
  },
  {
   "cell_type": "markdown",
   "metadata": {},
   "source": [
    "### here i used VGG16 for training "
   ]
  },
  {
   "cell_type": "code",
   "execution_count": 4,
   "metadata": {},
   "outputs": [],
   "source": [
    "#3malna model ma3moul 3al architecture VGG16 \n",
    "#weights = 'imagenet'-> il model initialisé ib weights deja metranin min ImageNet dataset(dataset kbira mta3 tsawer)\n",
    "vgg = VGG16(input_shape = IMAGE_SIZE + [3], weights = 'imagenet', include_top = False)"
   ]
  },
  {
   "cell_type": "code",
   "execution_count": 5,
   "metadata": {},
   "outputs": [],
   "source": [
    "#bch dour 3al layers ili t3amlou fil model mta3ek w bch t9olou maybadalhomech\n",
    "for layer in vgg.layers:\n",
    "    layer.trainable = False"
   ]
  },
  {
   "cell_type": "code",
   "execution_count": 6,
   "metadata": {},
   "outputs": [],
   "source": [
    "folders = glob('C:/Users/azizk/OneDrive/Desktop/DatasetsV2/Train/*')"
   ]
  },
  {
   "cell_type": "code",
   "execution_count": 7,
   "metadata": {},
   "outputs": [],
   "source": [
    "x =  Flatten()(vgg.output)"
   ]
  },
  {
   "cell_type": "code",
   "execution_count": 8,
   "metadata": {},
   "outputs": [],
   "source": [
    "prediction = Dense(len(folders), activation='softmax')(x)"
   ]
  },
  {
   "cell_type": "code",
   "execution_count": 9,
   "metadata": {},
   "outputs": [],
   "source": [
    "model = Model(inputs = vgg.input, outputs = prediction)"
   ]
  },
  {
   "cell_type": "code",
   "execution_count": 10,
   "metadata": {},
   "outputs": [
    {
     "name": "stdout",
     "output_type": "stream",
     "text": [
      "Model: \"model\"\n",
      "_________________________________________________________________\n",
      " Layer (type)                Output Shape              Param #   \n",
      "=================================================================\n",
      " input_1 (InputLayer)        [(None, 224, 224, 3)]     0         \n",
      "                                                                 \n",
      " block1_conv1 (Conv2D)       (None, 224, 224, 64)      1792      \n",
      "                                                                 \n",
      " block1_conv2 (Conv2D)       (None, 224, 224, 64)      36928     \n",
      "                                                                 \n",
      " block1_pool (MaxPooling2D)  (None, 112, 112, 64)      0         \n",
      "                                                                 \n",
      " block2_conv1 (Conv2D)       (None, 112, 112, 128)     73856     \n",
      "                                                                 \n",
      " block2_conv2 (Conv2D)       (None, 112, 112, 128)     147584    \n",
      "                                                                 \n",
      " block2_pool (MaxPooling2D)  (None, 56, 56, 128)       0         \n",
      "                                                                 \n",
      " block3_conv1 (Conv2D)       (None, 56, 56, 256)       295168    \n",
      "                                                                 \n",
      " block3_conv2 (Conv2D)       (None, 56, 56, 256)       590080    \n",
      "                                                                 \n",
      " block3_conv3 (Conv2D)       (None, 56, 56, 256)       590080    \n",
      "                                                                 \n",
      " block3_pool (MaxPooling2D)  (None, 28, 28, 256)       0         \n",
      "                                                                 \n",
      " block4_conv1 (Conv2D)       (None, 28, 28, 512)       1180160   \n",
      "                                                                 \n",
      " block4_conv2 (Conv2D)       (None, 28, 28, 512)       2359808   \n",
      "                                                                 \n",
      " block4_conv3 (Conv2D)       (None, 28, 28, 512)       2359808   \n",
      "                                                                 \n",
      " block4_pool (MaxPooling2D)  (None, 14, 14, 512)       0         \n",
      "                                                                 \n",
      " block5_conv1 (Conv2D)       (None, 14, 14, 512)       2359808   \n",
      "                                                                 \n",
      " block5_conv2 (Conv2D)       (None, 14, 14, 512)       2359808   \n",
      "                                                                 \n",
      " block5_conv3 (Conv2D)       (None, 14, 14, 512)       2359808   \n",
      "                                                                 \n",
      " block5_pool (MaxPooling2D)  (None, 7, 7, 512)         0         \n",
      "                                                                 \n",
      " flatten (Flatten)           (None, 25088)             0         \n",
      "                                                                 \n",
      " dense (Dense)               (None, 2)                 50178     \n",
      "                                                                 \n",
      "=================================================================\n",
      "Total params: 14,764,866\n",
      "Trainable params: 50,178\n",
      "Non-trainable params: 14,714,688\n",
      "_________________________________________________________________\n"
     ]
    }
   ],
   "source": [
    "model.summary()"
   ]
  },
  {
   "cell_type": "markdown",
   "metadata": {},
   "source": [
    "### loss will be 'categorical_crossentropy'"
   ]
  },
  {
   "cell_type": "code",
   "execution_count": 11,
   "metadata": {},
   "outputs": [],
   "source": [
    "model.compile(\n",
    "        loss = 'categorical_crossentropy',\n",
    "        optimizer = 'adam',\n",
    "        metrics = ['accuracy']\n",
    "        )"
   ]
  },
  {
   "cell_type": "code",
   "execution_count": 12,
   "metadata": {
    "scrolled": true
   },
   "outputs": [
    {
     "name": "stdout",
     "output_type": "stream",
     "text": [
      "Found 371 images belonging to 2 classes.\n",
      "Found 131 images belonging to 2 classes.\n"
     ]
    }
   ],
   "source": [
    "#t7ather fil tsawer ili bch te5dim bihom\n",
    "train_datagen = ImageDataGenerator(rescale= 1./255, shear_range= 0.2, zoom_range= 0.2, horizontal_flip= True)\n",
    "test_datagen = ImageDataGenerator(rescale= 1./255)\n",
    "\n",
    "#athouma bch t9oulou tsawer ili trani bihom\n",
    "training_set = train_datagen.flow_from_directory('C:/Users/azizk/OneDrive/Desktop/DatasetsV2/Train', target_size= (224,224),\n",
    "                                                        class_mode='categorical')\n",
    "#w athouma ili testi bihom\n",
    "test_set = test_datagen.flow_from_directory('C:/Users/azizk/OneDrive/Desktop/DatasetsV2/Test', target_size= (224,224),\n",
    "                                                        class_mode= 'categorical')"
   ]
  },
  {
   "cell_type": "code",
   "execution_count": 13,
   "metadata": {
    "scrolled": false
   },
   "outputs": [],
   "source": [
    "#from PIL import Image\n",
    "#import numpy as np\n",
    "# load an image from file\n",
    "#image = Image.open('C:/Users/azizk/OneDrive/Desktop/DatasetsV2/Train/George/WIN_20230731_21_16_54_Pro.jpg')\n",
    "#image = image.resize((224, 224))\n",
    "# convert the image pixels to a numpy array\n",
    "#image_array = np.array(image)\n",
    "#plt.imshow(image_array)\n",
    "# this is label 3(Nani)"
   ]
  },
  {
   "cell_type": "code",
   "execution_count": 14,
   "metadata": {},
   "outputs": [],
   "source": [
    "#from PIL import Image\n",
    "#import numpy as np\n",
    "# load an image from file\n",
    "#image = Image.open('C:/Users/azizk/OneDrive/Desktop/DatasetsV2/Test/Bbkr/WIN_20230717_21_51_42_Pro.jpg')\n",
    "#image = image.resize((224, 224))\n",
    "# convert the image pixels to a numpy array\n",
    "#image_array = np.array(image)\n",
    "#plt.imshow(image_array)\n",
    "# this is label 3(Nani)"
   ]
  },
  {
   "cell_type": "code",
   "execution_count": 15,
   "metadata": {},
   "outputs": [
    {
     "name": "stdout",
     "output_type": "stream",
     "text": [
      "12\n"
     ]
    }
   ],
   "source": [
    "print(len(training_set))"
   ]
  },
  {
   "cell_type": "markdown",
   "metadata": {},
   "source": [
    "### here i am using three labels face  recornizer."
   ]
  },
  {
   "cell_type": "code",
   "execution_count": 16,
   "metadata": {},
   "outputs": [
    {
     "name": "stderr",
     "output_type": "stream",
     "text": [
      "C:\\Users\\azizk\\anaconda3\\envs\\face\\lib\\site-packages\\ipykernel_launcher.py:4: UserWarning: `Model.fit_generator` is deprecated and will be removed in a future version. Please use `Model.fit`, which supports generators.\n",
      "  after removing the cwd from sys.path.\n"
     ]
    },
    {
     "name": "stdout",
     "output_type": "stream",
     "text": [
      "Epoch 1/5\n",
      "12/12 [==============================] - 42s 3s/step - loss: 0.3037 - accuracy: 0.8679 - val_loss: 0.0535 - val_accuracy: 0.9618\n",
      "Epoch 2/5\n",
      "12/12 [==============================] - 48s 4s/step - loss: 0.0117 - accuracy: 1.0000 - val_loss: 7.0176e-04 - val_accuracy: 1.0000\n",
      "Epoch 3/5\n",
      "12/12 [==============================] - 46s 4s/step - loss: 9.1067e-04 - accuracy: 1.0000 - val_loss: 4.9533e-05 - val_accuracy: 1.0000\n",
      "Epoch 4/5\n",
      "12/12 [==============================] - 46s 4s/step - loss: 3.5334e-04 - accuracy: 1.0000 - val_loss: 2.1852e-05 - val_accuracy: 1.0000\n",
      "Epoch 5/5\n",
      "12/12 [==============================] - 46s 4s/step - loss: 5.3521e-04 - accuracy: 1.0000 - val_loss: 2.2112e-05 - val_accuracy: 1.0000\n"
     ]
    }
   ],
   "source": [
    "#lena 9a3ed dour 3al model 7 marat 5ater 3andek 7 sets mta3 training\n",
    "from PIL import Image\n",
    "r = model.fit_generator(training_set, validation_data= test_set, epochs=5, steps_per_epoch= len(training_set),\n",
    "                        validation_steps=len(test_set))"
   ]
  },
  {
   "cell_type": "markdown",
   "metadata": {},
   "source": [
    "### train - validation loss"
   ]
  },
  {
   "cell_type": "code",
   "execution_count": 17,
   "metadata": {},
   "outputs": [
    {
     "data": {
      "image/png": "[encoded data removed]",
      "text/plain": [
       "<Figure size 640x480 with 1 Axes>"
      ]
     },
     "metadata": {},
     "output_type": "display_data"
    }
   ],
   "source": [
    "#ya3tik graph feha il changement mta3 il loss (kol ma il loss a9al kol ma a7sen)\n",
    "plt.plot(r.history['loss'], label = 'train loss')\n",
    "plt.plot(r.history['val_loss'], label = 'val loss')\n",
    "plt.legend()\n",
    "plt.show()"
   ]
  },
  {
   "cell_type": "markdown",
   "metadata": {},
   "source": [
    "## lets test with new image"
   ]
  },
  {
   "cell_type": "code",
   "execution_count": 18,
   "metadata": {},
   "outputs": [
    {
     "name": "stdout",
     "output_type": "stream",
     "text": [
      "1/1 [==============================] - 0s 387ms/step\n"
     ]
    },
    {
     "data": {
      "text/plain": [
       "array([[1.0000000e+00, 1.2278647e-11]], dtype=float32)"
      ]
     },
     "execution_count": 18,
     "metadata": {},
     "output_type": "execute_result"
    }
   ],
   "source": [
    "# load an image from file\n",
    "image = load_img('C:/Users/azizk/OneDrive/Images/Camera Roll/WIN_20230717_22_38_05_Pro.jpg', target_size=(224, 224))\n",
    "# convert the image pixels to a numpy array\n",
    "image = img_to_array(image)\n",
    "# reshape data for the model\n",
    "image = image.reshape((1, image.shape[0], image.shape[1], image.shape[2]))\n",
    "# prepare the image for the VGG model\n",
    "image = preprocess_input(image)\n",
    "# predict the probability across all output classes\n",
    "yhat = model.predict(image)\n",
    "yhat"
   ]
  },
  {
   "cell_type": "code",
   "execution_count": 19,
   "metadata": {},
   "outputs": [
    {
     "name": "stdout",
     "output_type": "stream",
     "text": [
      "1/1 [==============================] - 0s 141ms/step\n"
     ]
    },
    {
     "data": {
      "text/plain": [
       "array([[2.474682e-09, 1.000000e+00]], dtype=float32)"
      ]
     },
     "execution_count": 19,
     "metadata": {},
     "output_type": "execute_result"
    }
   ],
   "source": [
    "# load an image from file\n",
    "image = load_img('C:/Users/azizk/OneDrive/Images/Camera Roll/WIN_20230717_22_41_34_Pro.jpg', target_size=(224, 224))\n",
    "# convert the image pixels to a numpy array\n",
    "image = img_to_array(image)\n",
    "# reshape data for the model\n",
    "image = image.reshape((1, image.shape[0], image.shape[1], image.shape[2]))\n",
    "# prepare the image for the VGG model\n",
    "image = preprocess_input(image)\n",
    "# predict the probability across all output classes\n",
    "yhat = model.predict(image)\n",
    "yhat"
   ]
  },
  {
   "cell_type": "code",
   "execution_count": 20,
   "metadata": {},
   "outputs": [
    {
     "name": "stdout",
     "output_type": "stream",
     "text": [
      "1/1 [==============================] - 0s 157ms/step\n"
     ]
    },
    {
     "data": {
      "text/plain": [
       "array([[1.000000e+00, 5.005651e-18]], dtype=float32)"
      ]
     },
     "execution_count": 20,
     "metadata": {},
     "output_type": "execute_result"
    }
   ],
   "source": [
    "# load an image from file\n",
    "image = load_img('C:/Users/azizk/OneDrive/Images/Camera Roll/WIN_20230717_22_40_14_Pro.jpg', target_size=(224, 224))\n",
    "# convert the image pixels to a numpy array\n",
    "image = img_to_array(image)\n",
    "# reshape data for the model\n",
    "image = image.reshape((1, image.shape[0], image.shape[1], image.shape[2]))\n",
    "# prepare the image for the VGG model\n",
    "image = preprocess_input(image)\n",
    "# predict the probability across all output classes\n",
    "yhat = model.predict(image)\n",
    "yhat"
   ]
  },
  {
   "cell_type": "code",
   "execution_count": 21,
   "metadata": {},
   "outputs": [
    {
     "name": "stdout",
     "output_type": "stream",
     "text": [
      "1/1 [==============================] - 0s 138ms/step\n"
     ]
    },
    {
     "data": {
      "text/plain": [
       "array([[2.474682e-09, 1.000000e+00]], dtype=float32)"
      ]
     },
     "execution_count": 21,
     "metadata": {},
     "output_type": "execute_result"
    }
   ],
   "source": [
    "# load an image from file\n",
    "image = load_img('C:/Users/azizk/OneDrive/Images/Camera Roll/WIN_20230717_22_41_34_Pro.jpg', target_size=(224, 224))\n",
    "# convert the image pixels to a numpy array\n",
    "image = img_to_array(image)\n",
    "# reshape data for the model\n",
    "image = image.reshape((1, image.shape[0], image.shape[1], image.shape[2]))\n",
    "# prepare the image for the VGG model\n",
    "image = preprocess_input(image)\n",
    "# predict the probability across all output classes\n",
    "yhat = model.predict(image)\n",
    "yhat"
   ]
  },
  {
   "cell_type": "code",
   "execution_count": 22,
   "metadata": {},
   "outputs": [
    {
     "name": "stdout",
     "output_type": "stream",
     "text": [
      "1/1 [==============================] - 0s 170ms/step\n"
     ]
    },
    {
     "data": {
      "text/plain": [
       "array([[9.9953675e-01, 4.6329532e-04]], dtype=float32)"
      ]
     },
     "execution_count": 22,
     "metadata": {},
     "output_type": "execute_result"
    }
   ],
   "source": [
    "# load an image from file\n",
    "image = load_img('C:/Users/azizk/OneDrive/Images/Camera Roll/WIN_20230717_23_22_15_Pro.jpg', target_size=(224, 224))\n",
    "# convert the image pixels to a numpy array\n",
    "image = img_to_array(image)\n",
    "# reshape data for the model\n",
    "image = image.reshape((1, image.shape[0], image.shape[1], image.shape[2]))\n",
    "# prepare the image for the VGG model\n",
    "image = preprocess_input(image)\n",
    "# predict the probability across all output classes\n",
    "yhat = model.predict(image)\n",
    "yhat"
   ]
  },
  {
   "cell_type": "markdown",
   "metadata": {},
   "source": [
    "1 means Ashish, work successfully "
   ]
  },
  {
   "cell_type": "code",
   "execution_count": 23,
   "metadata": {},
   "outputs": [
    {
     "name": "stdout",
     "output_type": "stream",
     "text": [
      "Successfully saved\n"
     ]
    }
   ],
   "source": [
    "#savit il model ili 3maltou ka \"Model_Face.h5\"\n",
    "from tensorflow.keras.models import load_model\n",
    "model.save('Model_Face.h5')"
   ]
  },
  {
   "cell_type": "code",
   "execution_count": null,
   "metadata": {},
   "outputs": [],
   "source": []
  }
 ],
 "metadata": {
  "kernelspec": {
   "display_name": "Python 3 (ipykernel)",
   "language": "python",
   "name": "python3"
  },
  "language_info": {
   "codemirror_mode": {
    "name": "ipython",
    "version": 3
   },
   "file_extension": ".py",
   "mimetype": "text/x-python",
   "name": "python",
   "nbconvert_exporter": "python",
   "pygments_lexer": "ipython3",
   "version": "3.7.7"
  }
 },
 "nbformat": 4,
 "nbformat_minor": 1
}
